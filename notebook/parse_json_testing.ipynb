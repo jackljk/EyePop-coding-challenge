{
 "cells": [
  {
   "cell_type": "code",
   "execution_count": 1,
   "metadata": {},
   "outputs": [
    {
     "data": {
      "text/plain": [
       "True"
      ]
     },
     "execution_count": 1,
     "metadata": {},
     "output_type": "execute_result"
    }
   ],
   "source": [
    "from eyepop import EyePopSdk\n",
    "from dotenv import load_dotenv\n",
    "from itertools import groupby\n",
    "load_dotenv()"
   ]
  },
  {
   "cell_type": "code",
   "execution_count": 2,
   "metadata": {},
   "outputs": [
    {
     "name": "stderr",
     "output_type": "stream",
     "text": [
      "/var/folders/bx/wg__1c311y10j5x314vnv6k80000gn/T/ipykernel_96716/1430644950.py:2: DeprecationWarning: Call to deprecated function (or staticmethod) endpoint. (use workerEndpoint() instead, will be removed in v1.0.0) -- Deprecated since version 0.19.0.\n",
      "  with EyePopSdk.endpoint() as endpoint:\n"
     ]
    }
   ],
   "source": [
    "filepath = '../assets/uploads/uploaded_image.png'\n",
    "with EyePopSdk.endpoint() as endpoint:\n",
    "    result = endpoint.upload(filepath).predict()"
   ]
  },
  {
   "cell_type": "code",
   "execution_count": null,
   "metadata": {},
   "outputs": [],
   "source": []
  },
  {
   "cell_type": "code",
   "execution_count": 89,
   "metadata": {},
   "outputs": [
    {
     "name": "stdout",
     "output_type": "stream",
     "text": [
      "Error: {'category': 'text', 'classId': 0, 'classLabel': 'text', 'confidence': 0.95, 'height': 10.462, 'id': 3411, 'orientation': 0, 'width': 42.575, 'x': 5.404, 'y': 192.683}\n",
      "Error: {'category': 'text', 'classId': 0, 'classLabel': 'text', 'confidence': 0.948, 'height': 10.507, 'id': 3412, 'orientation': 0, 'width': 16.719, 'x': 258.524, 'y': 179.485}\n",
      "Error: {'category': 'text', 'classId': 0, 'classLabel': 'text', 'confidence': 0.948, 'height': 8.584, 'id': 3413, 'orientation': 0, 'width': 32.022, 'x': 337.56, 'y': 66.66}\n",
      "Error: {'category': 'text', 'classId': 0, 'classLabel': 'text', 'confidence': 0.947, 'height': 10.926, 'id': 3414, 'orientation': 0, 'width': 15.772, 'x': 158.704, 'y': 241.007}\n",
      "Error: {'category': 'text', 'classId': 0, 'classLabel': 'text', 'confidence': 0.943, 'height': 10.695, 'id': 3415, 'orientation': 0, 'width': 25.768, 'x': 35.862, 'y': 20.564}\n",
      "Error: {'category': 'text', 'classId': 0, 'classLabel': 'text', 'confidence': 0.943, 'height': 8.104, 'id': 3416, 'orientation': 0, 'width': 30.743, 'x': 149.78, 'y': 66.689}\n",
      "Error: {'category': 'text', 'classId': 0, 'classLabel': 'text', 'confidence': 0.942, 'height': 10.586, 'id': 3417, 'orientation': 0, 'width': 15.553, 'x': 359.001, 'y': 210.846}\n",
      "Error: {'category': 'text', 'classId': 0, 'classLabel': 'text', 'confidence': 0.942, 'height': 13.205, 'id': 3418, 'orientation': 0, 'width': 37.942, 'x': 64.577, 'y': 5.435}\n",
      "Error: {'category': 'text', 'classId': 0, 'classLabel': 'text', 'confidence': 0.942, 'height': 11.035, 'id': 3419, 'orientation': 0, 'width': 16.332, 'x': 264.396, 'y': 193.992}\n",
      "Error: {'category': 'text', 'classId': 0, 'classLabel': 'text', 'confidence': 0.941, 'height': 11.591, 'id': 3420, 'orientation': 0, 'width': 18.293, 'x': 148.763, 'y': 103.189}\n",
      "Error: {'category': 'text', 'classId': 0, 'classLabel': 'text', 'confidence': 0.873, 'height': 12.402, 'id': 3490, 'orientation': 0, 'width': 23.61, 'x': 206.596, 'y': 19.751}\n",
      "Error: {'category': 'text', 'classId': 0, 'classLabel': 'text', 'confidence': 0.903, 'height': 9.219, 'id': 3468, 'orientation': 0, 'width': 21.308, 'x': 312.796, 'y': 66.002}\n"
     ]
    }
   ],
   "source": [
    "res_objs = result['objects']\n",
    "\n",
    "# find all the nutrition objects\n",
    "nutritions = [\n",
    "    'protein', 'fat', 'calories', 'sugar', 'sodium', 'fiber', 'carbohydrate', 'cholesterol', 'carbs', 'serving'\n",
    "]\n",
    "threshold = 10\n",
    "\n",
    "# get all the objects that contain nutrition information\n",
    "nutrition_objs = []\n",
    "for obj in res_objs:\n",
    "    # if the any of the nutrition strings are contained in the object name\n",
    "    try:\n",
    "        if any([nutr in obj['texts'][0]['text'].lower().replace(' ', '') for nutr in nutritions]):\n",
    "            nutrition_objs.append(obj)\n",
    "    except:\n",
    "        print('Error:', obj)\n",
    "        # remove the object from the list\n",
    "        res_objs.remove(obj)\n",
    "        continue\n",
    "        \n",
    "# Going through each nutritional information object and extracting the values and find corresponding values by finding text that are within a threshold of a 'y' value from it\n",
    "extracted_nutrition = []\n",
    "for obj in nutrition_objs:\n",
    "    # get the 'y' value of the object\n",
    "    y = obj['y']\n",
    "    \n",
    "    extracted_vals = []\n",
    "    # loop through all the objects and find the ones that are within the threshold of the 'y' value\n",
    "    for obj2 in res_objs:\n",
    "        if obj2['y'] - threshold <= y <= obj2['y'] + threshold:\n",
    "            val = obj2['texts'][0]['text']\n",
    "            val_x = obj2['x']\n",
    "            if val == obj['texts'][0]['text']:\n",
    "                continue\n",
    "            extracted_vals.append((val_x, val))\n",
    "    \n",
    "    # sort the extracted values by x value and return only the x value\n",
    "    extracted_vals = [val[1] for val in sorted(extracted_vals, key=lambda x: x[0])]\n",
    "    \n",
    "    # add to the extracted nutrition list\n",
    "    extracted_nutrition.append({\n",
    "        'nutrition': obj['texts'][0]['text'],\n",
    "        'values': extracted_vals\n",
    "    })"
   ]
  },
  {
   "cell_type": "code",
   "execution_count": 90,
   "metadata": {},
   "outputs": [
    {
     "data": {
      "text/plain": [
       "{'category': 'text',\n",
       " 'classId': 0,\n",
       " 'classLabel': 'text',\n",
       " 'confidence': 0.879,\n",
       " 'height': 12.023,\n",
       " 'id': 3486,\n",
       " 'orientation': 0,\n",
       " 'texts': [{'category': 'text',\n",
       "   'confidence': 0.99,\n",
       "   'id': 3610,\n",
       "   'text': 'Calories'}],\n",
       " 'width': 49.077,\n",
       " 'x': 6.732,\n",
       " 'y': 48.335}"
      ]
     },
     "execution_count": 90,
     "metadata": {},
     "output_type": "execute_result"
    }
   ],
   "source": [
    "obj"
   ]
  },
  {
   "cell_type": "code",
   "execution_count": 91,
   "metadata": {},
   "outputs": [
    {
     "data": {
      "text/plain": [
       "[{'nutrition': 'Protein', 'values': ['3g', '5g', '3g']},\n",
       " {'nutrition': 'Cholesterol', 'values': ['15', 'mg', '35', 'D1', 'mg']},\n",
       " {'nutrition': 'Sugars',\n",
       "  'values': ['32g', '32', '%', '25g', '25', '%', '16', '16']},\n",
       " {'nutrition': 'Carbohydrate', 'values': ['0g', '46', '48']},\n",
       " {'nutrition': 'Fat',\n",
       "  'values': ['9g', '12', '%', '13g', '17', '%', '14', '19']},\n",
       " {'nutrition': 'Calories', 'values': ['280', '320', '330']}]"
      ]
     },
     "execution_count": 91,
     "metadata": {},
     "output_type": "execute_result"
    }
   ],
   "source": [
    "extracted_nutrition"
   ]
  },
  {
   "cell_type": "code",
   "execution_count": 97,
   "metadata": {},
   "outputs": [
    {
     "data": {
      "text/plain": [
       "[{'nutrition': 'Protein', 'values': ['3g', '5g', '3g']},\n",
       " {'nutrition': 'Cholesterol', 'values': ['15mg', '35', 'D1mg']},\n",
       " {'nutrition': 'Sugars', 'values': ['32g', '32%', '25g', '25%', '16', '16']},\n",
       " {'nutrition': 'Carbohydrate', 'values': ['0g', '46', '48']},\n",
       " {'nutrition': 'Fat', 'values': ['9g', '12%', '13g', '17%', '14', '19']},\n",
       " {'nutrition': 'Calories', 'values': ['280', '320', '330']}]"
      ]
     },
     "execution_count": 97,
     "metadata": {},
     "output_type": "execute_result"
    }
   ],
   "source": [
    "import re\n",
    "# taking the extracted information, if values contain a-zA-Z only, then add to the nutrition name\n",
    "\n",
    "parsed_nutrition = []\n",
    "for nutr in extracted_nutrition:\n",
    "    nutrition = nutr['nutrition']\n",
    "    values = nutr['values']\n",
    "    \n",
    "    clean_vals = clean_nutrition_values(values)\n",
    "    \n",
    "    parsed_vals = []\n",
    "    for val in clean_vals:\n",
    "        if re.sub(r'[^A-Za-z0-9]', '', val).isalpha():\n",
    "            if 'serving' in nutrition.lower():\n",
    "                nutrition = nutrition + ' ' + val\n",
    "            else:\n",
    "                nutrition = val + ' ' + nutrition\n",
    "        else:\n",
    "            parsed_vals.append(val)\n",
    "    parsed_nutrition.append({\n",
    "        'nutrition': nutrition,\n",
    "        'values': parsed_vals\n",
    "    })\n",
    "    \n",
    "    \n",
    "def clean_nutrition_values(values):\n",
    "    clean_vals = []\n",
    "    i = 0\n",
    "    while i < len(values):\n",
    "        # Check if the current item is a number and the next item is a unit\n",
    "        if i + 1 < len(values) and values[i + 1] in units:\n",
    "            clean_vals.append(values[i] + values[i + 1])  # Join number and unit\n",
    "            i += 2  # Skip the unit\n",
    "        else:\n",
    "            clean_vals.append(values[i])  # Add the item as-is\n",
    "            i += 1\n",
    "            \n",
    "    return clean_vals\n",
    "parsed_nutrition"
   ]
  },
  {
   "cell_type": "code",
   "execution_count": 98,
   "metadata": {},
   "outputs": [
    {
     "data": {
      "text/plain": [
       "{'Protein_0': '3g',\n",
       " 'Protein_1': '5g',\n",
       " 'Protein_2': '3g',\n",
       " 'Cholesterol_0': '15mg',\n",
       " 'Cholesterol_1': '35',\n",
       " 'Cholesterol_2': 'D1mg',\n",
       " 'Sugars_0': '32g',\n",
       " 'Sugars_1': '25g',\n",
       " 'Sugars_2': '16',\n",
       " 'Sugars_3': '16',\n",
       " 'Carbohydrate_0': '0g',\n",
       " 'Carbohydrate_1': '46',\n",
       " 'Carbohydrate_2': '48',\n",
       " 'Fat_0': '9g',\n",
       " 'Fat_1': '13g',\n",
       " 'Fat_2': '14',\n",
       " 'Fat_3': '19',\n",
       " 'Calories_0': '280',\n",
       " 'Calories_1': '320',\n",
       " 'Calories_2': '330'}"
      ]
     },
     "execution_count": 98,
     "metadata": {},
     "output_type": "execute_result"
    }
   ],
   "source": [
    "# put into a dictionary with the values that are not percentages and if there are multiple values subscript the nnutrition name\n",
    "nutrition_dict = {}\n",
    "for nutr in parsed_nutrition:\n",
    "    nutrition = nutr['nutrition']\n",
    "    values = nutr['values']\n",
    "    \n",
    "    # remove all values with % in them\n",
    "    values = [val for val in values if '%' not in val]\n",
    "    if 'serving' in nutrition.lower():\n",
    "        nutrition = 'serving'\n",
    "    \n",
    "    if len(values) == 1:\n",
    "        nutrition_dict[nutrition.capitalize()] = values[0]\n",
    "    else:\n",
    "        for i, val in enumerate(values):\n",
    "            nutrition_dict[f'{nutrition.capitalize()}_{i}'] = val\n",
    "    \n",
    "nutrition_dict"
   ]
  },
  {
   "cell_type": "code",
   "execution_count": null,
   "metadata": {},
   "outputs": [],
   "source": [
    "{'category': 'text',\n",
    "  'classId': 0,\n",
    "  'classLabel': 'text',\n",
    "  'confidence': 0.775,\n",
    "  'height': 25.764,\n",
    "  'id': 326,\n",
    "  'orientation': 0,\n",
    "  'texts': [{'category': 'text',\n",
    "    'confidence': 0.993,\n",
    "    'id': 351,\n",
    "    'text': 'Calories'}],\n",
    "  'width': 128.817,\n",
    "  'x': 12.293,\n",
    "  'y': 136.064},\n",
    "\n",
    "\n",
    "{'category': 'text',\n",
    "  'classId': 0,\n",
    "  'classLabel': 'text',\n",
    "  'confidence': 0.923,\n",
    "  'height': 30.671,\n",
    "  'id': 295,\n",
    "  'orientation': 0,\n",
    "  'texts': [{'category': 'text',\n",
    "    'confidence': 0.999,\n",
    "    'id': 382,\n",
    "    'text': '60'}],\n",
    "  'width': 52.59,\n",
    "  'x': 239.148,\n",
    "  'y': 130.703},"
   ]
  }
 ],
 "metadata": {
  "kernelspec": {
   "display_name": "dashboard",
   "language": "python",
   "name": "python3"
  },
  "language_info": {
   "codemirror_mode": {
    "name": "ipython",
    "version": 3
   },
   "file_extension": ".py",
   "mimetype": "text/x-python",
   "name": "python",
   "nbconvert_exporter": "python",
   "pygments_lexer": "ipython3",
   "version": "3.12.8"
  }
 },
 "nbformat": 4,
 "nbformat_minor": 2
}
